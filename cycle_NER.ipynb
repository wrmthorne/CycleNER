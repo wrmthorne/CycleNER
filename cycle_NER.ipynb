{
 "cells": [
  {
   "cell_type": "markdown",
   "metadata": {},
   "source": [
    "# CycleNER\n",
    "\n",
    "[Original Paper](https://dl.acm.org/doi/10.1145/3485447.3512012) by Andrea Iovine, Anjie Fang, Besnik Fetahu, Oleg Rokhlenko, Shervin Malmasi\n",
    "\n",
    "Attempting to implement CycleNER to evaluate unsupervised learning of custom set of NER tags in National Gallery dataset.\n",
    "\n",
    "CycleNER uses cycle-consistency training for two functions: sequence-to-entity (S2E); and entity-to-sequence (E2S), to learn NER tags from some seed set of sentences and another set of entity examples. The output from one function is the input the the other and the algorithm attempts to align each representation space, thus, learning to tag named entities in an unsupervised manner.\n",
    "\n",
    "![CycleNER diagram](./cycle_ner_diagram.png)"
   ]
  },
  {
   "cell_type": "markdown",
   "metadata": {},
   "source": [
    "### Import Modules\n",
    "\n",
    "Import relevant libraries and packages"
   ]
  },
  {
   "cell_type": "code",
   "execution_count": 1,
   "metadata": {},
   "outputs": [],
   "source": [
    "import json, os, torch, re, gc\n",
    "import torch.optim as optim\n",
    "from tqdm import tqdm\n",
    "from transformers import T5Tokenizer, T5Model, T5ForConditionalGeneration\n",
    "from nltk.tokenize.treebank import TreebankWordDetokenizer\n",
    "import pandas as pd\n",
    "from datasets import Dataset, load_dataset\n",
    "import matplotlib.pyplot as plt\n",
    "from pprint import pprint\n",
    "from sklearn.preprocessing import MultiLabelBinarizer\n",
    "from sklearn.metrics import precision_recall_fscore_support\n",
    "import torch.nn.functional as F\n",
    "\n",
    "# Ensures that all dataframes are displayed on one line instead of breaking columns across multiple lines\n",
    "pd.set_option('display.expand_frame_repr', False)"
   ]
  },
  {
   "cell_type": "markdown",
   "metadata": {},
   "source": [
    "### Import T5 Tokeniser\n",
    "\n",
    "Import T5 tokenizer class and set the chosen device. Also setup any special tokeniser configuration"
   ]
  },
  {
   "cell_type": "code",
   "execution_count": 2,
   "metadata": {},
   "outputs": [
    {
     "name": "stdout",
     "output_type": "stream",
     "text": [
      "| 9175\n"
     ]
    }
   ],
   "source": [
    "MODEL_MAX_LENGTH = 128\n",
    "\n",
    "device = \"cuda:0\" if torch.cuda.is_available() else \"cpu\"\n",
    "\n",
    "tokenizer = T5Tokenizer.from_pretrained(\"t5-small\", model_max_length=MODEL_MAX_LENGTH)\n",
    "\n",
    "# Add special separator token\n",
    "sep_token = '|'\n",
    "tokenizer.sep_token = sep_token\n",
    "\n",
    "print(tokenizer.sep_token, tokenizer.sep_token_id)"
   ]
  },
  {
   "cell_type": "markdown",
   "metadata": {},
   "source": [
    "### Import Data\n",
    "\n",
    "Import CoNLL2003 dataset to recreate paper with"
   ]
  },
  {
   "cell_type": "code",
   "execution_count": 3,
   "metadata": {},
   "outputs": [
    {
     "name": "stderr",
     "output_type": "stream",
     "text": [
      "Found cached dataset conll2003 (/home/william/.cache/huggingface/datasets/conll2003/conll2003/1.0.0/9a4d16a94f8674ba3466315300359b0acd891b68b6c8743ddf60b9c702adce98)\n"
     ]
    },
    {
     "data": {
      "application/vnd.jupyter.widget-view+json": {
       "model_id": "c5022e3b1d41472a916f7c402f09cf0b",
       "version_major": 2,
       "version_minor": 0
      },
      "text/plain": [
       "  0%|          | 0/3 [00:00<?, ?it/s]"
      ]
     },
     "metadata": {},
     "output_type": "display_data"
    },
    {
     "name": "stdout",
     "output_type": "stream",
     "text": [
      "Dataset({\n",
      "    features: ['id', 'tokens', 'pos_tags', 'chunk_tags', 'ner_tags'],\n",
      "    num_rows: 14041\n",
      "})\n"
     ]
    }
   ],
   "source": [
    "dataset = load_dataset(\"conll2003\")\n",
    "print(dataset['train'])"
   ]
  },
  {
   "cell_type": "markdown",
   "metadata": {},
   "source": [
    "Split the train, val and test set out into separate variables to manage them easier"
   ]
  },
  {
   "cell_type": "code",
   "execution_count": 4,
   "metadata": {},
   "outputs": [],
   "source": [
    "train = dataset['train']\n",
    "val   = dataset['validation']\n",
    "test  = dataset['test']"
   ]
  },
  {
   "cell_type": "markdown",
   "metadata": {},
   "source": [
    "Define a function to merge the BIO tagging scheme into a compound scheme"
   ]
  },
  {
   "cell_type": "code",
   "execution_count": 5,
   "metadata": {},
   "outputs": [],
   "source": [
    "# Tag list taken from https://huggingface.co/datasets/conll2003\n",
    "tag_to_idx = {'O': 0, 'B-PER': 1, 'I-PER': 2, 'B-ORG': 3, 'I-ORG': 4, 'B-LOC': 5, 'I-LOC': 6, 'B-MISC': 7, 'I-MISC': 8}\n",
    "idx_to_tag = {idx: tag for tag, idx in tag_to_idx.items()}\n",
    "tag_to_string = {'PER': 'person', 'ORG': 'organisation', 'LOC': 'location', 'MISC': 'miscellaneous'}\n",
    "string_to_tag = {string: tag for tag, string in tag_to_string.items()}\n",
    "\n",
    "def combine_bio_tags(tokens, tags):\n",
    "    compound_tokens = []\n",
    "\n",
    "    for token, tag in zip(tokens, tags):\n",
    "        if tag in [1, 3, 5, 7]:\n",
    "            compound_tokens.append([token, sep_token, f\"{tag_to_string[idx_to_tag[tag].split('-')[-1]]}\"])\n",
    "        elif tag in [2, 4, 6, 8]:\n",
    "            compound_tokens[-1][-2:-2] = [token]\n",
    "    \n",
    "    return [' '.join(token_tags) for token_tags in compound_tokens]"
   ]
  },
  {
   "cell_type": "markdown",
   "metadata": {},
   "source": [
    "Detokenise sentences and create expected output form T5 model using the 'tokens' and 'ner_tags' arrays"
   ]
  },
  {
   "cell_type": "code",
   "execution_count": 7,
   "metadata": {},
   "outputs": [
    {
     "data": {
      "text/plain": [
       "12886    Venezuelan | miscellaneous | Luis Raul Matos A...\n",
       "1536                   Bonn | location | Moscow | location\n",
       "2381         Natalia Voronova | person | Russia | location\n",
       "9381                                      PARIS | location\n",
       "4659                                  SHEFFIELD | location\n",
       "2572                             S.AFRICAN | miscellaneous\n",
       "1608                                                      \n",
       "5263     Parramatta | organisation | Sydney Tigers | or...\n",
       "2114                               ST LOUIS | organisation\n",
       "412           Dalglish | person | Blackburn | organisation\n",
       "Name: tags, dtype: object"
      ]
     },
     "execution_count": 7,
     "metadata": {},
     "output_type": "execute_result"
    }
   ],
   "source": [
    "PREFIX = 'Detect tags: '\n",
    "\n",
    "# Process all the relevant training data into dataframes to make manipulation easier\n",
    "processed_sets = [pd.DataFrame(data={\n",
    "        'prefix': PREFIX,\n",
    "        'tokens': [TreebankWordDetokenizer().detokenize(x['tokens']) for x in set],\n",
    "        'tags': [f' {sep_token} '.join(combine_bio_tags(x['tokens'], x['ner_tags'])) for x in set]\n",
    "        }) for set in [train, val, test]]\n",
    "\n",
    "train_df, val_df, test_df = processed_sets\n",
    "train_df.sample(10).tags"
   ]
  },
  {
   "cell_type": "code",
   "execution_count": 9,
   "metadata": {},
   "outputs": [
    {
     "data": {
      "text/html": [
       "<div>\n",
       "<style scoped>\n",
       "    .dataframe tbody tr th:only-of-type {\n",
       "        vertical-align: middle;\n",
       "    }\n",
       "\n",
       "    .dataframe tbody tr th {\n",
       "        vertical-align: top;\n",
       "    }\n",
       "\n",
       "    .dataframe thead th {\n",
       "        text-align: right;\n",
       "    }\n",
       "</style>\n",
       "<table border=\"1\" class=\"dataframe\">\n",
       "  <thead>\n",
       "    <tr style=\"text-align: right;\">\n",
       "      <th></th>\n",
       "      <th>tokens</th>\n",
       "      <th>tags</th>\n",
       "    </tr>\n",
       "  </thead>\n",
       "  <tbody>\n",
       "    <tr>\n",
       "      <th>1044</th>\n",
       "      <td>The Richmond-based retailer lost $95.7 million...</td>\n",
       "      <td>Richmond-based | miscellaneous</td>\n",
       "    </tr>\n",
       "    <tr>\n",
       "      <th>2104</th>\n",
       "      <td>NATIONAL LEAGUE</td>\n",
       "      <td>NATIONAL LEAGUE | miscellaneous</td>\n",
       "    </tr>\n",
       "    <tr>\n",
       "      <th>11706</th>\n",
       "      <td>Israeli travel restrictions, imposed after bom...</td>\n",
       "      <td>Israeli | miscellaneous | Moslem | miscellaneo...</td>\n",
       "    </tr>\n",
       "    <tr>\n",
       "      <th>850</th>\n",
       "      <td>The Mariners scored four runs in the top of th...</td>\n",
       "      <td>Mariners | organisation | Ripken | person | St...</td>\n",
       "    </tr>\n",
       "    <tr>\n",
       "      <th>12083</th>\n",
       "      <td>HONG KONG 1996-08-28</td>\n",
       "      <td>HONG KONG | location</td>\n",
       "    </tr>\n",
       "    <tr>\n",
       "      <th>6647</th>\n",
       "      <td>It said the row started when Popov and a group...</td>\n",
       "      <td>Popov | person</td>\n",
       "    </tr>\n",
       "    <tr>\n",
       "      <th>13475</th>\n",
       "      <td>The paper said Baker declined to discuss the t...</td>\n",
       "      <td>Baker | person</td>\n",
       "    </tr>\n",
       "    <tr>\n",
       "      <th>9666</th>\n",
       "      <td>They told reporters a group of Kurdistan Worke...</td>\n",
       "      <td>Kurdistan Workers Party | organisation | PKK |...</td>\n",
       "    </tr>\n",
       "    <tr>\n",
       "      <th>2200</th>\n",
       "      <td>BONN 1996-08-23</td>\n",
       "      <td>BONN | location</td>\n",
       "    </tr>\n",
       "    <tr>\n",
       "      <th>12707</th>\n",
       "      <td>Ajax defender John Veldman and his team mate R...</td>\n",
       "      <td>Ajax | organisation | John Veldman | person | ...</td>\n",
       "    </tr>\n",
       "  </tbody>\n",
       "</table>\n",
       "</div>"
      ],
      "text/plain": [
       "                                                  tokens                                               tags\n",
       "1044   The Richmond-based retailer lost $95.7 million...                     Richmond-based | miscellaneous\n",
       "2104                                     NATIONAL LEAGUE                    NATIONAL LEAGUE | miscellaneous\n",
       "11706  Israeli travel restrictions, imposed after bom...  Israeli | miscellaneous | Moslem | miscellaneo...\n",
       "850    The Mariners scored four runs in the top of th...  Mariners | organisation | Ripken | person | St...\n",
       "12083                               HONG KONG 1996-08-28                               HONG KONG | location\n",
       "6647   It said the row started when Popov and a group...                                     Popov | person\n",
       "13475  The paper said Baker declined to discuss the t...                                     Baker | person\n",
       "9666   They told reporters a group of Kurdistan Worke...  Kurdistan Workers Party | organisation | PKK |...\n",
       "2200                                     BONN 1996-08-23                                    BONN | location\n",
       "12707  Ajax defender John Veldman and his team mate R...  Ajax | organisation | John Veldman | person | ..."
      ]
     },
     "execution_count": 9,
     "metadata": {},
     "output_type": "execute_result"
    }
   ],
   "source": [
    "train_df.sample(10)[['tokens', 'tags']]"
   ]
  },
  {
   "cell_type": "code",
   "execution_count": 32,
   "metadata": {},
   "outputs": [
    {
     "name": "stdout",
     "output_type": "stream",
     "text": [
      "1\n",
      "a\n",
      "1\n",
      "a\n",
      "1\n",
      "a\n",
      "1\n",
      "a\n",
      "1\n",
      "a\n",
      "1\n",
      "1\n",
      "1\n",
      "1\n",
      "1\n"
     ]
    }
   ],
   "source": [
    "from itertools import chain, zip_longest\n",
    "\n",
    "a = [1] * 10\n",
    "b = ['a'] * 5\n",
    "\n",
    "c = [x for x in chain.from_iterable(zip_longest(a, b)) if x is not None]\n",
    "\n",
    "for i in range(len(a) + len(b)):\n",
    "    print(c[i])"
   ]
  },
  {
   "cell_type": "code",
   "execution_count": 39,
   "metadata": {},
   "outputs": [
    {
     "name": "stdout",
     "output_type": "stream",
     "text": [
      "1\n",
      "1\n"
     ]
    }
   ],
   "source": [
    "from tqdm import tqdm\n",
    "a = [1] * 10\n",
    "\n",
    "b = iter(a)"
   ]
  },
  {
   "cell_type": "markdown",
   "metadata": {},
   "source": [
    "Define generic functions to process data in each dataset"
   ]
  },
  {
   "cell_type": "code",
   "execution_count": 7,
   "metadata": {},
   "outputs": [],
   "source": [
    "def tokenise_func(examples):\n",
    "    return tokenizer(\n",
    "        examples,\n",
    "        padding='max_length',\n",
    "        truncation=True,\n",
    "        max_length=MODEL_MAX_LENGTH,\n",
    "        return_tensors='pt',\n",
    "        )\n",
    "\n",
    "# Replace all model pad tokens with -100 to be ignored in loss calculation by PyTorch\n",
    "def replace_pad_tokens(examples):\n",
    "    examples[examples==tokenizer.pad_token_id] = -100\n",
    "    return examples"
   ]
  },
  {
   "cell_type": "markdown",
   "metadata": {},
   "source": [
    "Create dataset from dataframe and encode the inputs and expected outputs for each element"
   ]
  },
  {
   "cell_type": "code",
   "execution_count": 8,
   "metadata": {},
   "outputs": [
    {
     "data": {
      "application/vnd.jupyter.widget-view+json": {
       "model_id": "0543f9309cc4460abb228a2c223fbd7d",
       "version_major": 2,
       "version_minor": 0
      },
      "text/plain": [
       "  0%|          | 0/15 [00:00<?, ?ba/s]"
      ]
     },
     "metadata": {},
     "output_type": "display_data"
    },
    {
     "data": {
      "application/vnd.jupyter.widget-view+json": {
       "model_id": "00a3c774acdc4fa8bba5f6e6f3cac012",
       "version_major": 2,
       "version_minor": 0
      },
      "text/plain": [
       "  0%|          | 0/15 [00:00<?, ?ba/s]"
      ]
     },
     "metadata": {},
     "output_type": "display_data"
    },
    {
     "name": "stdout",
     "output_type": "stream",
     "text": [
      "Dataset({\n",
      "    features: ['input_ids', 'attention_mask', 'labels'],\n",
      "    num_rows: 14041\n",
      "})\n"
     ]
    }
   ],
   "source": [
    "dataset = Dataset.from_dict({\n",
    "    'encode': list(train_df['prefix'] + train_df['tokens']),\n",
    "    'encode_targets': list(train_df['tags'])\n",
    "    })\n",
    "\n",
    "# Process relevant columns in dataset ready for training\n",
    "dataset = dataset.map(\n",
    "    lambda batch: (tokenised := tokenise_func(batch['encode']), {'input_ids': tokenised.input_ids, 'attention_mask': tokenised.attention_mask})[-1],\n",
    "    remove_columns=['encode'],\n",
    "    batched=True\n",
    "    )\n",
    "\n",
    "dataset = dataset.map(\n",
    "    lambda batch: {'labels': replace_pad_tokens(tokenise_func(batch['encode_targets']).input_ids)},\n",
    "    remove_columns=['encode_targets'],\n",
    "    batched=True\n",
    "    )\n",
    "\n",
    "# Shuffle dataset\n",
    "dataset = dataset.shuffle(seed=42)\n",
    "dataset.set_format(type='torch')\n",
    "print(dataset)"
   ]
  },
  {
   "cell_type": "markdown",
   "metadata": {},
   "source": [
    "### T5 as a tool for NER\n",
    "\n",
    "Here we train T5 over just a few epochs to evaluate performance on traditional NER"
   ]
  },
  {
   "cell_type": "code",
   "execution_count": 9,
   "metadata": {},
   "outputs": [
    {
     "name": "stderr",
     "output_type": "stream",
     "text": [
      "100%|██████████| 439/439 [01:35<00:00,  4.59it/s]\n",
      "100%|██████████| 439/439 [01:36<00:00,  4.55it/s]\n",
      "100%|██████████| 439/439 [01:35<00:00,  4.58it/s]\n",
      "100%|██████████| 439/439 [01:36<00:00,  4.56it/s]\n",
      "100%|██████████| 439/439 [01:36<00:00,  4.53it/s]\n"
     ]
    },
    {
     "data": {
      "text/plain": [
       "443"
      ]
     },
     "execution_count": 9,
     "metadata": {},
     "output_type": "execute_result"
    }
   ],
   "source": [
    "EPOCHS = 5\n",
    "BATCH_SIZE = 32\n",
    "S2E_LEARNING_RATE = 1e-5 # 1e-4 was too high\n",
    "\n",
    "s2e = T5ForConditionalGeneration.from_pretrained(\"t5-small\").to(device)\n",
    "s2e_optimiser = optim.AdamW(s2e.parameters(), lr=S2E_LEARNING_RATE)\n",
    "s2e_losses = []\n",
    "\n",
    "for epoch in range(EPOCHS):\n",
    "    # Shuffle dataset\n",
    "    dataset = dataset.shuffle(seed=42)\n",
    "\n",
    "    # iterate over each mini_batch of BATCH_SIZE\n",
    "    for i in tqdm(range(0, len(dataset), BATCH_SIZE)):\n",
    "        # Fetch current batch\n",
    "        try:\n",
    "            mini_batch = dataset.select(range(i, i+BATCH_SIZE))\n",
    "        except IndexError:\n",
    "            mini_batch = dataset.select(range(i, len(dataset)))\n",
    "        \n",
    "        # Conduct training step for s2e model\n",
    "        s2e_loss = s2e(\n",
    "            input_ids      = mini_batch['input_ids'].to(device),\n",
    "            attention_mask = mini_batch['attention_mask'].to(device),\n",
    "            labels         = mini_batch['labels'].to(device)\n",
    "            ).loss\n",
    "\n",
    "        # Update s2e w.r.t. loss\n",
    "        s2e_losses.append(s2e_loss.item())\n",
    "        s2e_loss.backward()\n",
    "        s2e_optimiser.step()\n",
    "\n",
    "# Clear CUDA cache and dispose of useless data\n",
    "torch.cuda.empty_cache()\n",
    "gc.collect()"
   ]
  },
  {
   "cell_type": "markdown",
   "metadata": {},
   "source": [
    "Plot the loss from training"
   ]
  },
  {
   "cell_type": "code",
   "execution_count": 10,
   "metadata": {},
   "outputs": [
    {
     "data": {
      "image/png": "[encoded data removed]",
      "text/plain": [
       "<Figure size 640x480 with 1 Axes>"
      ]
     },
     "metadata": {},
     "output_type": "display_data"
    },
    {
     "name": "stdout",
     "output_type": "stream",
     "text": [
      "Final Loss: 0.05536260828375816\n"
     ]
    }
   ],
   "source": [
    "plt.plot(s2e_losses)\n",
    "plt.title(f'Loss vs Training Samples Over {EPOCHS} Epochs')\n",
    "plt.xlabel(f'Batches (Batch size: {BATCH_SIZE})')\n",
    "plt.ylabel(f'Cross Entropy Loss')\n",
    "plt.show()\n",
    "\n",
    "print(f'Final Loss: {s2e_losses[-1]}')"
   ]
  },
  {
   "cell_type": "markdown",
   "metadata": {},
   "source": [
    "Visually evaluate performance over a few test examples. As the examples show, the model is depending heavily on the capitalisation of entities to determine whether they are a named entity. The model cannot detect names if they are not capitalised which means more, randomly capitalised/lower-cased examples may improve performance."
   ]
  },
  {
   "cell_type": "code",
   "execution_count": 17,
   "metadata": {},
   "outputs": [
    {
     "name": "stdout",
     "output_type": "stream",
     "text": [
      "['Germany [LOC]',\n",
      " 'Bath [LOC]',\n",
      " '',\n",
      " 'Alan Shearer [PER] Newcastle [LOC]',\n",
      " '',\n",
      " 'Apple [ORG] Bill [PER]']\n"
     ]
    }
   ],
   "source": [
    "test_inputs = [\n",
    "        'NER Tag: The man from Germany walked his dog in the park.',\n",
    "        'NER Tag: One year, a castle appeared upon the hill outside Bath.',\n",
    "        'NER Tag: alan shearer was from newcastle. He played football there.',\n",
    "        'NER Tag: Alan Shearer was from Newcastle. He played football there.',\n",
    "        'NER Tag: Everybody knew that apple increased their prices, even bill.',\n",
    "        'NER Tag: Everybody knew that Apple increased their prices, even Bill.'\n",
    "        ]\n",
    "\n",
    "encoded_inputs = tokenizer(\n",
    "        test_inputs,\n",
    "        padding='max_length',\n",
    "        truncation=True,\n",
    "        max_length=MODEL_MAX_LENGTH,\n",
    "        return_tensors='pt'\n",
    "        )\n",
    "\n",
    "encoded_outputs = s2e.generate(input_ids=encoded_inputs.input_ids.to(device), attention_mask=encoded_inputs.attention_mask.to(device), max_length=MODEL_MAX_LENGTH)\n",
    "pprint(tokenizer.batch_decode(encoded_outputs, skip_special_tokens=True))"
   ]
  },
  {
   "cell_type": "markdown",
   "metadata": {},
   "source": [
    "Test the performance of system against the test set"
   ]
  },
  {
   "cell_type": "code",
   "execution_count": 13,
   "metadata": {},
   "outputs": [
    {
     "data": {
      "application/vnd.jupyter.widget-view+json": {
       "model_id": "d4e33906bd8c4f2b93622637103a8a89",
       "version_major": 2,
       "version_minor": 0
      },
      "text/plain": [
       "  0%|          | 0/4 [00:00<?, ?ba/s]"
      ]
     },
     "metadata": {},
     "output_type": "display_data"
    },
    {
     "data": {
      "application/vnd.jupyter.widget-view+json": {
       "model_id": "067133a2e9fa4c618950fac7f627acf7",
       "version_major": 2,
       "version_minor": 0
      },
      "text/plain": [
       "  0%|          | 0/4 [00:00<?, ?ba/s]"
      ]
     },
     "metadata": {},
     "output_type": "display_data"
    },
    {
     "name": "stderr",
     "output_type": "stream",
     "text": [
      "100%|██████████| 108/108 [00:38<00:00,  2.80it/s]\n"
     ]
    }
   ],
   "source": [
    "test_dataset = Dataset.from_dict({\n",
    "    'encode': list(test_df['prefix'] + test_df['tokens']),\n",
    "    'encode_targets': list(test_df['tags'])\n",
    "    })\n",
    "\n",
    "test_dataset = test_dataset.map(\n",
    "    lambda batch: (tokenised := tokenise_func(batch['encode']), {'input_ids': tokenised.input_ids, 'attention_mask': tokenised.attention_mask})[-1],\n",
    "    remove_columns=['encode'],\n",
    "    batched=True\n",
    "    )\n",
    "\n",
    "test_dataset = test_dataset.map(\n",
    "    lambda batch: {'labels': batch['encode_targets']},\n",
    "    remove_columns=['encode_targets'],\n",
    "    batched=True\n",
    "    )\n",
    "\n",
    "test_dataset = test_dataset.shuffle(seed=42)\n",
    "test_dataset.set_format(type='torch', columns=['input_ids', 'attention_mask'])\n",
    "\n",
    "encoded_outputs = []\n",
    "for i in tqdm(range(0, len(test_dataset), BATCH_SIZE)):\n",
    "    # Fetch current batch\n",
    "    try:\n",
    "        mini_batch = test_dataset.select(range(i, i+BATCH_SIZE))\n",
    "    except IndexError:\n",
    "        mini_batch = test_dataset.select(range(i, len(test_dataset)))\n",
    "\n",
    "    encoded_outputs.extend(s2e.generate(\n",
    "        input_ids      = mini_batch['input_ids'].to(device),\n",
    "        attention_mask = mini_batch['attention_mask'].to(device),\n",
    "        max_length     = 128\n",
    "        ))\n",
    "\n",
    "decoded_outputs = tokenizer.batch_decode(encoded_outputs, skip_special_tokens=True)"
   ]
  },
  {
   "cell_type": "markdown",
   "metadata": {},
   "source": [
    "Evaluate performance of quickly trained T5 model using the test set. Evaluate using micro f1, precision and recall."
   ]
  },
  {
   "cell_type": "code",
   "execution_count": 52,
   "metadata": {},
   "outputs": [
    {
     "name": "stdout",
     "output_type": "stream",
     "text": [
      "Precision: 0.8307495896407077\n",
      "Recall: 0.8157234957020058\n",
      "F-1: 0.8231679768681667\n"
     ]
    }
   ],
   "source": [
    "# Process labels into array of tagged terms\n",
    "y_true = list(map(lambda x: re.findall(r'\\S.*?\\[.*?\\]', x), test_dataset['labels']))\n",
    "y_pred = list(map(lambda x: re.findall(r'\\S.*?\\[.*?\\]', x), decoded_outputs))\n",
    "\n",
    "binarizer = MultiLabelBinarizer()\n",
    "# Fit to both sets to include all classes form training data\n",
    "# https://stackoverflow.com/questions/72060723/i-am-having-a-userwarning-unknown-classes-when-using-multilabelbinarizer\n",
    "binarizer.fit(y_true + y_pred)\n",
    "\n",
    "precision, recall, f1, _ = precision_recall_fscore_support(\n",
    "    binarizer.transform(y_true), \n",
    "    binarizer.transform(y_pred), \n",
    "    average='micro'\n",
    "    )\n",
    "\n",
    "print(f'Precision: {precision}')\n",
    "print(f'Recall: {recall}')\n",
    "print(f'F-1: {f1}')\n"
   ]
  },
  {
   "cell_type": "markdown",
   "metadata": {},
   "source": [
    "### Cycle Consistency Training\n",
    "\n",
    "Define a training method which alternates between S-cycle training and E-cycle training. S-cycle loss is calculated as the reconstruction loss (avg. cross-entropy loss) of input $S$ and generated $S'$ where $S = \\{s_1, s_2, \\dots, s_n\\}$ is the set of sentences containing zero or more entities:\n",
    "\n",
    "$$\n",
    "\\mathcal{L_{\\phi}}(S, S') = - \\frac{\\sum_{s \\in S} \\sum_{i < |s|}{p(s_i) log \\space g(s'_i)}}{|s| * |S|}\n",
    "$$\n",
    "\n",
    "The loss function is identical for E-cycle training except for $S$ is replaced with $Q$, i.e. $\\mathcal{L_{\\theta}}(Q, Q')$ where $Q = \\{< e_{1,1}, \\dots, e_{1, k} >, \\dots, < e_{m,1}, \\dots, e_{m, l} > \\}$ is the set of entity sequences containing zero or more entities.\n",
    "\n",
    "First define a generic method for both the S- and E- cycles:"
   ]
  },
  {
   "cell_type": "code",
   "execution_count": 8,
   "metadata": {},
   "outputs": [],
   "source": [
    "def cycle(input_ids, label_ids, generator_model, training_model, prefix_ids):\n",
    "    '''\n",
    "    Generic cycle function which performs each stage for S or E cycle. The behaviour of each\n",
    "    cycle is, hence, defined:\n",
    "        S-Cycle:\n",
    "            1) From \"NER Tag: <seed sentence>\", generate entity sequence\n",
    "            2) From generated entity sequence, generate something that resembles seed sentence\n",
    "        \n",
    "        E-Cycle:\n",
    "            1) From \"NER Tag: <seed entity sequence>\", generate a sentence\n",
    "            2) From generated sentence, generate an entity sequence that resembles seed entity sequence\n",
    "    '''\n",
    "    # zero the gradients\n",
    "    generator_model.zero_grad()\n",
    "    training_model.zero_grad()\n",
    "    \n",
    "    input_prime_ids = generator_model.generate(\n",
    "        input_ids      = input_ids.to(device),\n",
    "        max_length     = MODEL_MAX_LENGTH      \n",
    "    )\n",
    "\n",
    "    # Skip decode -> re-encode by removing leading pad and generating an attention mask\n",
    "    input_prime_ids = input_prime_ids[:, 1:]\n",
    "\n",
    "    # Insert prefix ids into sequence for training model\n",
    "    input_prime_ids = torch.cat((prefix_ids.to(device).repeat(input_prime_ids.size(0), 1), input_prime_ids.to(device)), dim=1)\n",
    "\n",
    "    # Create attention mask\n",
    "    attention_mask = input_prime_ids.clone()\n",
    "    attention_mask[attention_mask != 0] = 1\n",
    "\n",
    "    # Set pad tokens to be ignored by PyTorch loss function\n",
    "    label_ids[label_ids==tokenizer.pad_token_id] = -100\n",
    "    \n",
    "    loss = training_model(\n",
    "        input_ids      = input_prime_ids.to(device),\n",
    "        attention_mask = attention_mask.to(device),\n",
    "        labels         = label_ids.to(device)\n",
    "    ).loss\n",
    "    \n",
    "    return loss"
   ]
  },
  {
   "cell_type": "markdown",
   "metadata": {},
   "source": [
    "Construct datasets for the task"
   ]
  },
  {
   "cell_type": "code",
   "execution_count": null,
   "metadata": {},
   "outputs": [],
   "source": [
    "tokenizer.model"
   ]
  },
  {
   "cell_type": "code",
   "execution_count": 9,
   "metadata": {},
   "outputs": [
    {
     "data": {
      "application/vnd.jupyter.widget-view+json": {
       "model_id": "6b5302ca97b94ecd97aeb879a5d12e99",
       "version_major": 2,
       "version_minor": 0
      },
      "text/plain": [
       "  0%|          | 0/1 [00:00<?, ?ba/s]"
      ]
     },
     "metadata": {},
     "output_type": "display_data"
    },
    {
     "data": {
      "application/vnd.jupyter.widget-view+json": {
       "model_id": "546fe1c07486446e9787e7cc7020b272",
       "version_major": 2,
       "version_minor": 0
      },
      "text/plain": [
       "  0%|          | 0/14 [00:00<?, ?ba/s]"
      ]
     },
     "metadata": {},
     "output_type": "display_data"
    },
    {
     "data": {
      "application/vnd.jupyter.widget-view+json": {
       "model_id": "7572686f2cfb4343b316de1a211782ae",
       "version_major": 2,
       "version_minor": 0
      },
      "text/plain": [
       "  0%|          | 0/1 [00:00<?, ?ba/s]"
      ]
     },
     "metadata": {},
     "output_type": "display_data"
    },
    {
     "data": {
      "application/vnd.jupyter.widget-view+json": {
       "model_id": "5f29ae7b3a2e416d9b7ccad6ac857729",
       "version_major": 2,
       "version_minor": 0
      },
      "text/plain": [
       "  0%|          | 0/14 [00:00<?, ?ba/s]"
      ]
     },
     "metadata": {},
     "output_type": "display_data"
    },
    {
     "data": {
      "application/vnd.jupyter.widget-view+json": {
       "model_id": "b9a236067ed34e08aa3eed55e0e458d7",
       "version_major": 2,
       "version_minor": 0
      },
      "text/plain": [
       "  0%|          | 0/4 [00:00<?, ?ba/s]"
      ]
     },
     "metadata": {},
     "output_type": "display_data"
    },
    {
     "data": {
      "application/vnd.jupyter.widget-view+json": {
       "model_id": "9d37e3f1c2ae4832a83bfc5106aee19f",
       "version_major": 2,
       "version_minor": 0
      },
      "text/plain": [
       "  0%|          | 0/4 [00:00<?, ?ba/s]"
      ]
     },
     "metadata": {},
     "output_type": "display_data"
    }
   ],
   "source": [
    "# Randomly pull out 20% of samples for pre-training\n",
    "pre_train_df = train_df.sample(n=100)        # Used in fully supervised learning\n",
    "train_df = train_df.drop(pre_train_df.index) # Used in CycleNER fine-tuning\n",
    "\n",
    "def build_dataset(df, primary_key, secondary_key):\n",
    "    return Dataset.from_dict({\n",
    "        'text': list(df['prefix'] + df[primary_key]),\n",
    "        'labels': list(df[secondary_key])\n",
    "        }).map(\n",
    "            lambda x: (tokenised_input := tokenise_func(x['text']), {\n",
    "                'input_ids': tokenised_input.input_ids,\n",
    "                'attention_mask': tokenised_input.attention_mask,\n",
    "                'label_ids': tokenise_func(x['labels']).input_ids\n",
    "                })[-1],\n",
    "            batched=True)\n",
    "\n",
    "# Build train datasets\n",
    "s2e_pretrain = build_dataset(pre_train_df, 'tokens', 'tags')\n",
    "s2e_train = build_dataset(train_df, 'tokens', 'tokens')\n",
    "e2s_pretrain = build_dataset(pre_train_df, 'tags', 'tokens')\n",
    "e2s_train = build_dataset(train_df, 'tags', 'tags')\n",
    "\n",
    "# Build val datasets\n",
    "s2e_val = build_dataset(val_df, 'tokens', 'tags')\n",
    "e2s_val = build_dataset(val_df, 'tags', 'tokens')\n",
    "\n",
    "\n",
    "all_datasets = [s2e_pretrain, s2e_train, e2s_pretrain, e2s_train, s2e_val, e2s_val]\n",
    "\n",
    "for dataset in all_datasets:\n",
    "    dataset.set_format(type='torch', columns=['input_ids', 'label_ids', 'attention_mask'])"
   ]
  },
  {
   "cell_type": "markdown",
   "metadata": {},
   "source": [
    "Use some supervised learning to pre-train each model the expected output format"
   ]
  },
  {
   "cell_type": "code",
   "execution_count": 2,
   "metadata": {},
   "outputs": [
    {
     "data": {
      "text/plain": [
       "[2, 2, 2, 2, 2]"
      ]
     },
     "execution_count": 2,
     "metadata": {},
     "output_type": "execute_result"
    }
   ],
   "source": [
    "a = [1] * 20\n",
    "b = [2] * 5\n",
    "\n",
    "b"
   ]
  },
  {
   "cell_type": "code",
   "execution_count": 13,
   "metadata": {},
   "outputs": [],
   "source": [
    "EPOCHS = 5\n",
    "BATCH_SIZE = 32\n",
    "S2E_LEARNING_RATE = 1e-4\n",
    "E2S_LEARNING_RATE = 1e-4\n",
    "\n",
    "s2e = T5ForConditionalGeneration.from_pretrained(\"t5-small\").to(device)\n",
    "e2s = T5ForConditionalGeneration.from_pretrained(\"t5-small\").to(device)\n",
    "s2e_optimiser = optim.AdamW(s2e.parameters(), lr=S2E_LEARNING_RATE)\n",
    "e2s_optimiser = optim.AdamW(e2s.parameters(), lr=E2S_LEARNING_RATE)"
   ]
  },
  {
   "cell_type": "markdown",
   "metadata": {},
   "source": [
    "Define an evaluation method"
   ]
  },
  {
   "cell_type": "code",
   "execution_count": 14,
   "metadata": {},
   "outputs": [],
   "source": [
    "def evaluate(model, eval_dataset, batch_size=32, calculate_f1=False):\n",
    "    model.eval()\n",
    "    running_loss = 0\n",
    "\n",
    "    # Shuffle eval dataset\n",
    "    dataset.shuffle(seed=42)\n",
    "    batch_idxs = [list(range(len(eval_dataset)))[i:i+batch_size] for i in range(0, len(eval_dataset), batch_size)]\n",
    "\n",
    "    generated_outputs = []\n",
    "\n",
    "    for idxs in (pbar := tqdm(batch_idxs)):\n",
    "        pbar.set_description('Evaluating')\n",
    "\n",
    "        # Fetch current batch\n",
    "        mini_batch = eval_dataset.select(idxs)\n",
    "\n",
    "        label_ids = mini_batch['label_ids']\n",
    "        label_ids[label_ids==tokenizer.pad_token_id] = -100\n",
    "        \n",
    "        # Conduct training step for s2e model\n",
    "        loss = model(\n",
    "            input_ids      = mini_batch['input_ids'].to(device),\n",
    "            attention_mask = mini_batch['attention_mask'].to(device),\n",
    "            labels         = label_ids.to(device)\n",
    "            ).loss\n",
    "\n",
    "        if calculate_f1:\n",
    "            generated_output = model.generate(\n",
    "                input_ids  = mini_batch['input_ids'].to(device),\n",
    "                max_length = MODEL_MAX_LENGTH\n",
    "                )\n",
    "\n",
    "            generated_outputs.extend(F.pad(generated_output, (MODEL_MAX_LENGTH - generated_output.size(1), 0)))\n",
    "\n",
    "        running_loss += loss.item()\n",
    "        \n",
    "    if calculate_f1:\n",
    "        #print(generated_outputs)\n",
    "        decoded_outputs = tokenizer.batch_decode(generated_outputs, skip_special_tokens=True)\n",
    "\n",
    "        # Process labels into array of tagged terms\n",
    "        y_true = list(map(lambda x: [' | '.join(x_i) for x_i in zip(x.split(' | ')[0::2], x.split(' | ')[1::2])], eval_dataset['labels']))\n",
    "        y_pred = list(map(lambda x: [' | '.join(x_i) for x_i in zip(x.split(' | ')[0::2], x.split(' | ')[1::2])], decoded_outputs))\n",
    "\n",
    "        binarizer = MultiLabelBinarizer()\n",
    "        binarizer.fit(y_true + y_pred)\n",
    "\n",
    "        precision, recall, f1, _ = precision_recall_fscore_support(\n",
    "            binarizer.transform(y_true), \n",
    "            binarizer.transform(y_pred), \n",
    "            average='micro'\n",
    "            )\n",
    "\n",
    "        print(f'Precision: {precision}')\n",
    "        print(f'Recall: {recall}')\n",
    "        print(f'F-1: {f1}')\n",
    "\n",
    "    mean_loss = running_loss / len(batch_idxs)\n",
    "    return mean_loss"
   ]
  },
  {
   "cell_type": "code",
   "execution_count": 13,
   "metadata": {},
   "outputs": [
    {
     "name": "stdout",
     "output_type": "stream",
     "text": [
      "a ['username', 'ip']\n",
      "b ['username', 'ip']\n",
      "c ['username', 'ip']\n",
      "d ['username', 'ip']\n"
     ]
    }
   ],
   "source": [
    "import pandas as pd\n",
    "\n",
    "\n",
    "df = pd.DataFrame(data={\n",
    "    'username': ['a', 'a', 'b', 'c', 'd'],\n",
    "    'ip': [1, 2, 3, 4, 5]\n",
    "    })\n",
    "    \n",
    "for name, group in df.groupby('username'):\n",
    "    print(username, list(ips))"
   ]
  },
  {
   "cell_type": "markdown",
   "metadata": {},
   "source": [
    "Pre-train the model to teach each model their expected output format"
   ]
  },
  {
   "cell_type": "code",
   "execution_count": 18,
   "metadata": {},
   "outputs": [
    {
     "name": "stdout",
     "output_type": "stream",
     "text": [
      "Training S2E\n"
     ]
    },
    {
     "name": "stderr",
     "output_type": "stream",
     "text": [
      "Epoch 0 Training: 100%|██████████| 4/4 [00:00<00:00,  4.63it/s]\n",
      "Evaluating: 100%|██████████| 102/102 [00:07<00:00, 13.73it/s]\n",
      "Epoch 1 Training: 100%|██████████| 4/4 [00:00<00:00,  5.40it/s]\n",
      "Evaluating: 100%|██████████| 102/102 [00:07<00:00, 13.67it/s]\n",
      "Epoch 2 Training: 100%|██████████| 4/4 [00:00<00:00,  5.38it/s]\n",
      "Evaluating: 100%|██████████| 102/102 [00:07<00:00, 13.54it/s]\n",
      "Epoch 3 Training: 100%|██████████| 4/4 [00:00<00:00,  5.48it/s]\n",
      "Evaluating: 100%|██████████| 102/102 [00:07<00:00, 13.63it/s]\n",
      "Epoch 4 Training: 100%|██████████| 4/4 [00:00<00:00,  5.40it/s]\n",
      "Evaluating: 100%|██████████| 102/102 [00:07<00:00, 13.50it/s]\n",
      "Epoch 5 Training: 100%|██████████| 4/4 [00:00<00:00,  5.15it/s]\n",
      "Evaluating: 100%|██████████| 102/102 [00:07<00:00, 13.46it/s]\n",
      "Epoch 6 Training: 100%|██████████| 4/4 [00:00<00:00,  4.98it/s]\n",
      "Evaluating: 100%|██████████| 102/102 [00:07<00:00, 13.70it/s]\n",
      "Epoch 7 Training: 100%|██████████| 4/4 [00:00<00:00,  5.32it/s]\n",
      "Evaluating: 100%|██████████| 102/102 [00:07<00:00, 13.73it/s]\n",
      "Epoch 8 Training: 100%|██████████| 4/4 [00:00<00:00,  5.28it/s]\n",
      "Evaluating: 100%|██████████| 102/102 [00:07<00:00, 13.60it/s]\n",
      "Epoch 9 Training: 100%|██████████| 4/4 [00:00<00:00,  5.53it/s]\n",
      "Evaluating: 100%|██████████| 102/102 [00:07<00:00, 13.87it/s]\n"
     ]
    },
    {
     "name": "stdout",
     "output_type": "stream",
     "text": [
      "Training E2S\n"
     ]
    },
    {
     "name": "stderr",
     "output_type": "stream",
     "text": [
      "Epoch 0 Training: 100%|██████████| 4/4 [00:00<00:00,  5.33it/s]\n",
      "Evaluating: 100%|██████████| 102/102 [00:07<00:00, 13.99it/s]\n",
      "Epoch 1 Training: 100%|██████████| 4/4 [00:00<00:00,  5.63it/s]\n",
      "Evaluating: 100%|██████████| 102/102 [00:07<00:00, 13.89it/s]\n",
      "Epoch 2 Training: 100%|██████████| 4/4 [00:00<00:00,  5.07it/s]\n",
      "Evaluating: 100%|██████████| 102/102 [00:07<00:00, 13.63it/s]\n",
      "Epoch 3 Training: 100%|██████████| 4/4 [00:00<00:00,  5.45it/s]\n",
      "Evaluating: 100%|██████████| 102/102 [00:07<00:00, 13.65it/s]\n",
      "Epoch 4 Training: 100%|██████████| 4/4 [00:00<00:00,  5.36it/s]\n",
      "Evaluating: 100%|██████████| 102/102 [00:07<00:00, 13.84it/s]\n",
      "Epoch 5 Training: 100%|██████████| 4/4 [00:00<00:00,  5.36it/s]\n",
      "Evaluating: 100%|██████████| 102/102 [00:07<00:00, 13.65it/s]\n",
      "Epoch 6 Training: 100%|██████████| 4/4 [00:00<00:00,  5.18it/s]\n",
      "Evaluating: 100%|██████████| 102/102 [00:07<00:00, 14.13it/s]\n",
      "Epoch 7 Training: 100%|██████████| 4/4 [00:00<00:00,  5.29it/s]\n",
      "Evaluating: 100%|██████████| 102/102 [00:07<00:00, 14.12it/s]\n",
      "Epoch 8 Training: 100%|██████████| 4/4 [00:00<00:00,  5.24it/s]\n",
      "Evaluating: 100%|██████████| 102/102 [00:07<00:00, 13.72it/s]\n",
      "Epoch 9 Training: 100%|██████████| 4/4 [00:00<00:00,  5.40it/s]\n",
      "Evaluating: 100%|██████████| 102/102 [00:07<00:00, 13.63it/s]\n"
     ]
    },
    {
     "name": "stdout",
     "output_type": "stream",
     "text": [
      "S2E Pre-Train Loss: 0.80124867649055\n",
      "E2S Pre-Train Loss: 3.205059875460232\n"
     ]
    },
    {
     "data": {
      "text/plain": [
       "4517"
      ]
     },
     "execution_count": 18,
     "metadata": {},
     "output_type": "execute_result"
    }
   ],
   "source": [
    "def pre_train(model, optimiser, dataset, eval_dataset, epochs=1, batch_size=32):\n",
    "    model.train()\n",
    "    losses = []\n",
    "    eval_losses = []\n",
    "\n",
    "    # Select indices for every batch with approximately batch_size elements\n",
    "    batch_idxs = [list(range(len(dataset)))[i:i+batch_size] for i in range(0, len(dataset), batch_size)]\n",
    "\n",
    "    for epoch in range(epochs):\n",
    "        # Shuffle dataset\n",
    "        dataset = dataset.shuffle(seed=42)\n",
    "\n",
    "        running_loss = 0\n",
    "\n",
    "        # iterate over each mini_batch of batch_size\n",
    "        for idxs in (pbar := tqdm(batch_idxs)):\n",
    "            pbar.set_description(f'Epoch {epoch} Training')\n",
    "            # Fetch current batch\n",
    "            mini_batch = dataset.select(idxs)\n",
    "\n",
    "            model.zero_grad()\n",
    "\n",
    "            label_ids = mini_batch['label_ids']\n",
    "            label_ids[label_ids==tokenizer.pad_token_id] = -100\n",
    "            \n",
    "            loss = model(\n",
    "                input_ids      = mini_batch['input_ids'].to(device),\n",
    "                attention_mask = mini_batch['attention_mask'].to(device),\n",
    "                labels         = label_ids.to(device)\n",
    "                ).loss\n",
    "\n",
    "            running_loss += loss.item()\n",
    "            loss.backward()\n",
    "            optimiser.step()\n",
    "            \n",
    "        losses.append(running_loss / len(batch_idxs))\n",
    "        eval_losses.append(evaluate(model, eval_dataset))\n",
    "    return model, losses, eval_losses\n",
    "\n",
    "print('Training S2E')\n",
    "s2e, s2e_pretrain_losses, s2e_pre_eval_losses = pre_train(s2e, s2e_optimiser, s2e_pretrain, s2e_val, epochs=EPOCHS*2)\n",
    "print('Training E2S')\n",
    "e2s, e2s_pretrain_losses, e2s_pre_eval_losses = pre_train(e2s, e2s_optimiser, e2s_pretrain, e2s_val, epochs=EPOCHS*2)\n",
    "\n",
    "print(f'S2E Pre-Train Loss: {s2e_pre_eval_losses[-1]}')\n",
    "print(f'E2S Pre-Train Loss: {e2s_pre_eval_losses[-1]}')\n",
    "\n",
    "# Clear CUDA cache and dispose of useless data\n",
    "torch.cuda.empty_cache()\n",
    "gc.collect()"
   ]
  },
  {
   "cell_type": "code",
   "execution_count": 19,
   "metadata": {},
   "outputs": [
    {
     "data": {
      "image/png": "[encoded data removed]",
      "text/plain": [
       "<Figure size 640x480 with 1 Axes>"
      ]
     },
     "metadata": {},
     "output_type": "display_data"
    },
    {
     "name": "stdout",
     "output_type": "stream",
     "text": [
      "S2E Val Loss: 0.80124867649055\n",
      "E2S Val Loss: 3.205059875460232\n"
     ]
    }
   ],
   "source": [
    "plt.plot(s2e_pretrain_losses, label='S2E Pretrain Loss')\n",
    "plt.plot(e2s_pretrain_losses, label='E2S Pretrain Loss')\n",
    "plt.plot(s2e_pre_eval_losses, label='S2E Eval Loss')\n",
    "plt.plot(e2s_pre_eval_losses, label='E2S Eval Loss')\n",
    "plt.title(f'Loss vs Training Samples Over {EPOCHS} Epochs')\n",
    "plt.xlabel(f'Batches (Batch size: {BATCH_SIZE})')\n",
    "plt.ylabel(f'Cross Entropy Loss')\n",
    "plt.legend()\n",
    "plt.show()\n",
    "\n",
    "print(f'S2E Val Loss: {s2e_pre_eval_losses[-1]}')\n",
    "print(f'E2S Val Loss: {e2s_pre_eval_losses[-1]}')"
   ]
  },
  {
   "cell_type": "code",
   "execution_count": 27,
   "metadata": {},
   "outputs": [
    {
     "name": "stdout",
     "output_type": "stream",
     "text": [
      "['Norway | location',\n",
      " 'Bath | location',\n",
      " 'alan shearer | person',\n",
      " 'Alan Shearer | person',\n",
      " '',\n",
      " '']\n"
     ]
    }
   ],
   "source": [
    "test_inputs = [\n",
    "        'Detect tags: The man from Norway walked his dog in the park.',\n",
    "        'Detect tags: One year, a castle appeared upon the hill outside Bath.',\n",
    "        'Detect tags: alan shearer was from newcastle. He played football there.',\n",
    "        'Detect tags: Alan Shearer was from Newcastle. He played football there.',\n",
    "        'Detect tags: Everybody knew that apple increased their prices, even bill.',\n",
    "        'Detect tags: Everybody knew that Apple increased their prices, even Bill.'\n",
    "        ]\n",
    "\n",
    "encoded_inputs = tokenizer(\n",
    "        test_inputs,\n",
    "        padding='max_length',\n",
    "        truncation=True,\n",
    "        max_length=MODEL_MAX_LENGTH,\n",
    "        return_tensors='pt'\n",
    "        )\n",
    "\n",
    "encoded_outputs = s2e.generate(input_ids=encoded_inputs.input_ids.to(device), max_length=MODEL_MAX_LENGTH)\n",
    "pprint(tokenizer.batch_decode(encoded_outputs, skip_special_tokens=True))"
   ]
  },
  {
   "cell_type": "markdown",
   "metadata": {},
   "source": [
    "Consider how to prepend NER Tag to synthetic sample"
   ]
  },
  {
   "cell_type": "code",
   "execution_count": 28,
   "metadata": {},
   "outputs": [
    {
     "name": "stderr",
     "output_type": "stream",
     "text": [
      "Epoch 0 training: 100%|██████████| 436/436 [16:17<00:00,  2.24s/it]\n",
      "Evaluating: 100%|██████████| 102/102 [00:07<00:00, 13.75it/s]\n",
      "Evaluating: 100%|██████████| 102/102 [00:07<00:00, 13.81it/s]\n"
     ]
    },
    {
     "name": "stdout",
     "output_type": "stream",
     "text": [
      "S2E Train Loss: 3.295902820355302\n",
      "E2S Train Loss: 0.8487766739835433\n",
      "S2E Val Loss: 0.3741183643978016\n",
      "E2S Val Loss: 2.82584814230601\n"
     ]
    },
    {
     "name": "stderr",
     "output_type": "stream",
     "text": [
      "Epoch 1 training: 100%|██████████| 436/436 [16:09<00:00,  2.22s/it]\n",
      "Evaluating: 100%|██████████| 102/102 [00:07<00:00, 14.32it/s]\n",
      "Evaluating: 100%|██████████| 102/102 [00:07<00:00, 13.42it/s]\n"
     ]
    },
    {
     "name": "stdout",
     "output_type": "stream",
     "text": [
      "S2E Train Loss: 2.8213072364483405\n",
      "E2S Train Loss: 0.5056368951950598\n",
      "S2E Val Loss: 0.36860036104917526\n",
      "E2S Val Loss: 2.722697423953636\n"
     ]
    },
    {
     "data": {
      "text/plain": [
       "180"
      ]
     },
     "execution_count": 28,
     "metadata": {},
     "output_type": "execute_result"
    }
   ],
   "source": [
    "S2E_LEARNING_RATE = 1e-4\n",
    "E2S_LEARNING_RATE = 1e-4\n",
    "EPOCHS = 2\n",
    "\n",
    "s2e_train_losses = []\n",
    "e2s_train_losses = []\n",
    "\n",
    "s2e_val_losses = []\n",
    "e2s_val_losses = []\n",
    "\n",
    "prefix_ids = tokenizer(PREFIX, return_tensors='pt').input_ids\n",
    "batch_idxs = [list(range(len(s2e_train)))[i:i+BATCH_SIZE] for i in range(0, len(s2e_train), BATCH_SIZE)]\n",
    "\n",
    "# TODO: Work out way to iterate over each dataset individually for different sized S and Q datasets\n",
    "# Train model\n",
    "for epoch in range(EPOCHS):\n",
    "    # Tell PyTorch the model is training\n",
    "    s2e.train()\n",
    "    e2s.train()\n",
    "\n",
    "    # Shuffle datasets\n",
    "    s2e_train = s2e_train.shuffle(seed=42)\n",
    "    e2s_train = e2s_train.shuffle(seed=42)\n",
    "\n",
    "    s2e_running_loss = 0\n",
    "    e2s_running_loss = 0\n",
    "\n",
    "    # iterate over each mini_batch of BATCH_SIZE\n",
    "    for idxs in (pbar := tqdm(batch_idxs)):\n",
    "        pbar.set_description(f'Epoch {epoch} training')\n",
    "        # Fetch current batch\n",
    "        s2e_batch = s2e_train.select(idxs)\n",
    "        e2s_batch = e2s_train.select(idxs)\n",
    "        \n",
    "        # Run S Cycle - Update e2s optimiser with reconstruction loss L(S, S')\n",
    "        s_loss = cycle(s2e_batch['input_ids'], s2e_batch['label_ids'], s2e, e2s, prefix_ids)\n",
    "        s2e_running_loss += s_loss.item()\n",
    "        s_loss.backward()\n",
    "        e2s_optimiser.step()\n",
    "\n",
    "        # Run E Cycle - Update s2e optimiser with reconstruction loss L(Q, Q')\n",
    "        e_loss = cycle(e2s_batch['input_ids'], e2s_batch['label_ids'], e2s, s2e, prefix_ids)\n",
    "        e2s_running_loss += e_loss.item()\n",
    "        e_loss.backward()\n",
    "        s2e_optimiser.step()\n",
    "\n",
    "    s2e_train_losses.append(s2e_running_loss / len(batch_idxs))\n",
    "    e2s_train_losses.append(e2s_running_loss / len(batch_idxs))\n",
    "\n",
    "    s2e_val_losses.append(evaluate(s2e, s2e_val))\n",
    "    e2s_val_losses.append(evaluate(e2s, e2s_val))\n",
    "\n",
    "    print(f'S2E Train Loss: {s2e_train_losses[-1]}')\n",
    "    print(f'E2S Train Loss: {e2s_train_losses[-1]}') \n",
    "    print(f'S2E Val Loss: {s2e_val_losses[-1]}')\n",
    "    print(f'E2S Val Loss: {e2s_val_losses[-1]}')    \n",
    "\n",
    "\n",
    "# Clear CUDA cache and dispose of useless data\n",
    "torch.cuda.empty_cache()\n",
    "gc.collect()"
   ]
  },
  {
   "cell_type": "code",
   "execution_count": 29,
   "metadata": {},
   "outputs": [
    {
     "data": {
      "image/png": "[encoded data removed]",
      "text/plain": [
       "<Figure size 640x480 with 1 Axes>"
      ]
     },
     "metadata": {},
     "output_type": "display_data"
    },
    {
     "name": "stdout",
     "output_type": "stream",
     "text": [
      "Final S2E Loss: 2.8213072364483405\n",
      "Final E2S Loss: 0.5056368951950598\n"
     ]
    }
   ],
   "source": [
    "plt.plot(s2e_train_losses, label='S2E Train Loss')\n",
    "plt.plot(e2s_train_losses, label='E2S Train Loss')\n",
    "plt.plot(s2e_val_losses, label='S2E Val Loss')\n",
    "plt.plot(e2s_val_losses, label='E2S Val Loss')\n",
    "plt.title(f'Loss vs Training Samples Over {EPOCHS} Epochs')\n",
    "plt.xlabel(f'Batches (Batch size: {BATCH_SIZE})')\n",
    "plt.ylabel(f'Cross Entropy Loss')\n",
    "plt.legend()\n",
    "plt.show()\n",
    "\n",
    "print(f'Final S2E Loss: {s2e_train_losses[-1]}')\n",
    "print(f'Final E2S Loss: {e2s_train_losses[-1]}')"
   ]
  },
  {
   "cell_type": "code",
   "execution_count": 36,
   "metadata": {},
   "outputs": [
    {
     "name": "stdout",
     "output_type": "stream",
     "text": [
      "Detect tags: \n",
      "['Bath | location',\n",
      " '',\n",
      " 'alan shearer | person | newcastle | location',\n",
      " 'Alan Shearer | person | Newcastle | location',\n",
      " 'Apple | organisation',\n",
      " 'Apple | organisation | Bill | person']\n"
     ]
    }
   ],
   "source": [
    "prefix = PREFIX\n",
    "print(prefix)\n",
    "    \n",
    "s2e_test_inputs = [\n",
    "        f'{prefix}The man from Bath walked his dog in the park.',\n",
    "        f'{prefix}One year, a castle appeared upon the hill outside of Bath.',\n",
    "        f'{prefix}alan shearer was from newcastle. He played football there.',\n",
    "        f'{prefix}Alan Shearer was from Newcastle. He played football there.',\n",
    "        f'{prefix}Everybody knew that apple increased their prices, even bill.',\n",
    "        f'{prefix}Everybody knew that Apple increased their prices, even Bill.'\n",
    "        ]\n",
    "\n",
    "s2e_encoded_inputs = tokenizer(\n",
    "        s2e_test_inputs,\n",
    "        padding='max_length',\n",
    "        truncation=True,\n",
    "        max_length=MODEL_MAX_LENGTH,\n",
    "        return_tensors='pt'\n",
    "        )\n",
    "\n",
    "s2e_encoded_outputs = s2e.generate(input_ids=s2e_encoded_inputs.input_ids.to(device), attention_mask=s2e_encoded_inputs.attention_mask.to(device), max_length=MODEL_MAX_LENGTH)\n",
    "pprint(tokenizer.batch_decode(s2e_encoded_outputs, skip_special_tokens=True))"
   ]
  },
  {
   "cell_type": "code",
   "execution_count": 39,
   "metadata": {},
   "outputs": [
    {
     "name": "stdout",
     "output_type": "stream",
     "text": [
      "['Norway 0 0 0 0 0 0',\n",
      " 'Bath 3 1 1 1 1 1 1 1 1 1 1',\n",
      " \"alan shearer, newcastle's spokesman, said the spokesman for the spokesman \"\n",
      " 'said the spokesman said the spokesman had not commented on the situation.',\n",
      " 'Alan Shearer (Typs) 0-1',\n",
      " 'apple vs bill',\n",
      " \"Apple said it had a'stinkering' with Bill, a'stinker' of the'stinkering' of \"\n",
      " \"the'stinkering' of the'stinkering'.\"]\n"
     ]
    }
   ],
   "source": [
    "e2s_test_inputs = [\n",
    "        f'{prefix}Norway {sep_token} location',\n",
    "        f'{prefix}Bath {sep_token} location',\n",
    "        f'{prefix}alan shearer {sep_token} person {sep_token} newcastle {sep_token} location',\n",
    "        f'{prefix}Alan Shearer {sep_token} person {sep_token} Newcastle {sep_token} location',\n",
    "        f'{prefix}apple {sep_token} organisation {sep_token} bill {sep_token} person',\n",
    "        f'{prefix}Apple {sep_token} organisation {sep_token} Bill {sep_token} person'\n",
    "        ]\n",
    "\n",
    "e2s_encoded_inputs = tokenizer(\n",
    "        e2s_test_inputs,\n",
    "        padding='max_length',\n",
    "        truncation=True,\n",
    "        max_length=MODEL_MAX_LENGTH,\n",
    "        return_tensors='pt'\n",
    "        )\n",
    "\n",
    "#print(e2s_encoded_inputs.input_ids)\n",
    "\n",
    "e2s_encoded_outputs = e2s.generate(input_ids=e2s_encoded_inputs.input_ids.to(device), max_length=MODEL_MAX_LENGTH)\n",
    "decoded_e2s = tokenizer.batch_decode(e2s_encoded_outputs, skip_special_tokens=True)\n",
    "# pprint(list(zip(e2s_test_inputs, decoded_e2s)))\n",
    "pprint(decoded_e2s)"
   ]
  }
 ],
 "metadata": {
  "kernelspec": {
   "display_name": "Python 3.10.6 ('gatenlp_venv': venv)",
   "language": "python",
   "name": "python3"
  },
  "language_info": {
   "codemirror_mode": {
    "name": "ipython",
    "version": 3
   },
   "file_extension": ".py",
   "mimetype": "text/x-python",
   "name": "python",
   "nbconvert_exporter": "python",
   "pygments_lexer": "ipython3",
   "version": "3.10.6"
  },
  "orig_nbformat": 4,
  "vscode": {
   "interpreter": {
    "hash": "ed9bce70e2f85c08309b76a92bdcd846293a0270c4e50df8d2f5fae8e918b159"
   }
  }
 },
 "nbformat": 4,
 "nbformat_minor": 2
}
